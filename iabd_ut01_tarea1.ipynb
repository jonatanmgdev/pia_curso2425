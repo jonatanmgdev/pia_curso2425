{
  "nbformat": 4,
  "nbformat_minor": 0,
  "metadata": {
    "colab": {
      "provenance": []
    },
    "kernelspec": {
      "name": "python3",
      "display_name": "Python 3"
    },
    "language_info": {
      "name": "python"
    }
  },
  "cells": [
    {
      "cell_type": "markdown",
      "source": [
        " Borra la celda actual, añade una nueva de texto y escribe en su interior tu nombre completo en Heading 1."
      ],
      "metadata": {
        "id": "klRmap9VVi0K"
      }
    },
    {
      "cell_type": "markdown",
      "source": [
        "# Jonatan Montesdeoca González"
      ],
      "metadata": {
        "id": "B7vNngcoTtkw"
      }
    },
    {
      "cell_type": "markdown",
      "source": [
        "En una nueva celda de código, crea la lista de nombre tenistas con los siguientes elementos: Novak Djokovic, Rafael Nadal, Roger Federer, Pete Sampras, Roy Emerson. Imprime por pantalla la lista.\n"
      ],
      "metadata": {
        "id": "HG5S5FHMVmmc"
      }
    },
    {
      "cell_type": "code",
      "source": [
        "tenistas = ['Novak Djokovic', 'Rafael Nadal', 'Roger Federer', 'Pete Sampras', 'Roy Emerson']\n",
        "print(tenistas)"
      ],
      "metadata": {
        "colab": {
          "base_uri": "https://localhost:8080/"
        },
        "id": "JZR7jzpoT6Av",
        "outputId": "2d9d5911-85d7-4168-e637-cc565838c439"
      },
      "execution_count": 1,
      "outputs": [
        {
          "output_type": "stream",
          "name": "stdout",
          "text": [
            "['Novak Djokovic', 'Rafael Nadal', 'Roger Federer', 'Pete Sampras', 'Roy Emerson']\n"
          ]
        }
      ]
    },
    {
      "cell_type": "markdown",
      "source": [
        "En una nueva celda de código, crea la lista de nombre grand_slams con los siguientes elementos: 24, 22, 20, 14, 12. Imprime por pantalla la lista."
      ],
      "metadata": {
        "id": "XGna2YWVVsVz"
      }
    },
    {
      "cell_type": "code",
      "source": [
        "grand_slams = [24, 22, 20, 14, 12]\n",
        "print(grand_slams)"
      ],
      "metadata": {
        "colab": {
          "base_uri": "https://localhost:8080/"
        },
        "id": "ko2N66DbUV1O",
        "outputId": "85713478-da9c-4551-e717-73a77a722f0f"
      },
      "execution_count": 2,
      "outputs": [
        {
          "output_type": "stream",
          "name": "stdout",
          "text": [
            "[24, 22, 20, 14, 12]\n"
          ]
        }
      ]
    },
    {
      "cell_type": "markdown",
      "source": [
        "En una nueva celda de código, crea un diccionario de nombre dic donde la clave de cada elemento sea el nombre de un tenista y su valor el número de Grand Slams ganados. Imprime por pantalla el diccionario"
      ],
      "metadata": {
        "id": "XJzUIQenV5mV"
      }
    },
    {
      "cell_type": "code",
      "source": [
        "dic = dict(zip(tenistas, grand_slams))\n",
        "print(dic)"
      ],
      "metadata": {
        "colab": {
          "base_uri": "https://localhost:8080/"
        },
        "id": "tSYRQ4tLUidg",
        "outputId": "bb609e16-ff8d-4d7a-dd8b-85da28a27afb"
      },
      "execution_count": 3,
      "outputs": [
        {
          "output_type": "stream",
          "name": "stdout",
          "text": [
            "{'Novak Djokovic': 24, 'Rafael Nadal': 22, 'Roger Federer': 20, 'Pete Sampras': 14, 'Roy Emerson': 12}\n"
          ]
        }
      ]
    },
    {
      "cell_type": "markdown",
      "source": [
        "En una nueva celda de código, escribe las sentencias Python necesarias para\n",
        "mostrar los datos del diccionario dic en la forma Nombre del jugador: X Grand Slams ganados. El resultado debería ser como sigue:\n"
      ],
      "metadata": {
        "id": "skpXAgI2WE4s"
      }
    },
    {
      "cell_type": "code",
      "source": [
        "for i in dic:\n",
        "  print(f\"{i}: {dic[i]} Grand Slams ganados.\")"
      ],
      "metadata": {
        "colab": {
          "base_uri": "https://localhost:8080/"
        },
        "id": "fbEh7Os_U6bU",
        "outputId": "c9d76b45-3829-4434-c1ff-ca336305d8f8"
      },
      "execution_count": 6,
      "outputs": [
        {
          "output_type": "stream",
          "name": "stdout",
          "text": [
            "Novak Djokovic: 24 Grand Slams ganados.\n",
            "Rafael Nadal: 22 Grand Slams ganados.\n",
            "Roger Federer: 20 Grand Slams ganados.\n",
            "Pete Sampras: 14 Grand Slams ganados.\n",
            "Roy Emerson: 12 Grand Slams ganados.\n"
          ]
        }
      ]
    }
  ]
}